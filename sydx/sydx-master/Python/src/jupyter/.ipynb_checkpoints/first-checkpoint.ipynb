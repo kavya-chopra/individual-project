{
 "cells": [
  {
   "cell_type": "code",
   "execution_count": 7,
   "metadata": {
    "collapsed": true
   },
   "outputs": [],
   "source": [
    "import os, sys\n",
    "sys.path.append(os.path.abspath('../main'))"
   ]
  },
  {
   "cell_type": "code",
   "execution_count": 8,
   "metadata": {},
   "outputs": [
    {
     "data": {
      "text/plain": [
       "1"
      ]
     },
     "execution_count": 8,
     "metadata": {},
     "output_type": "execute_result"
    }
   ],
   "source": [
    "1"
   ]
  },
  {
   "cell_type": "code",
   "execution_count": 9,
   "metadata": {},
   "outputs": [
    {
     "ename": "KeyError",
     "evalue": "'formatters'",
     "output_type": "error",
     "traceback": [
      "\u001b[1;31m---------------------------------------------------------------------------\u001b[0m",
      "\u001b[1;31mKeyError\u001b[0m                                  Traceback (most recent call last)",
      "\u001b[1;32m<ipython-input-9-1d31d2f2a119>\u001b[0m in \u001b[0;36m<module>\u001b[1;34m()\u001b[0m\n\u001b[1;32m----> 1\u001b[1;33m \u001b[1;32mimport\u001b[0m \u001b[0msydx\u001b[0m\u001b[1;33m\u001b[0m\u001b[1;33m\u001b[0m\u001b[0m\n\u001b[0m\u001b[0;32m      2\u001b[0m \u001b[1;33m\u001b[0m\u001b[0m\n\u001b[0;32m      3\u001b[0m \u001b[1;32mimport\u001b[0m \u001b[0mimportlib\u001b[0m\u001b[1;33m\u001b[0m\u001b[1;33m\u001b[0m\u001b[0m\n\u001b[0;32m      4\u001b[0m \u001b[0mimportlib\u001b[0m\u001b[1;33m.\u001b[0m\u001b[0mreload\u001b[0m\u001b[1;33m(\u001b[0m\u001b[0msydx\u001b[0m\u001b[1;33m)\u001b[0m\u001b[1;33m\u001b[0m\u001b[1;33m\u001b[0m\u001b[0m\n",
      "\u001b[1;32mS:\\dev\\Sydx\\Python\\src\\main\\sydx.py\u001b[0m in \u001b[0;36m<module>\u001b[1;34m()\u001b[0m\n\u001b[0;32m    244\u001b[0m \u001b[0m__version__\u001b[0m \u001b[1;33m=\u001b[0m \u001b[1;34m'1.0.0'\u001b[0m\u001b[1;33m\u001b[0m\u001b[1;33m\u001b[0m\u001b[0m\n\u001b[0;32m    245\u001b[0m \u001b[1;33m\u001b[0m\u001b[0m\n\u001b[1;32m--> 246\u001b[1;33m \u001b[0mlogging\u001b[0m\u001b[1;33m.\u001b[0m\u001b[0mconfig\u001b[0m\u001b[1;33m.\u001b[0m\u001b[0mfileConfig\u001b[0m\u001b[1;33m(\u001b[0m\u001b[1;34m'sydx-logging.cfg'\u001b[0m\u001b[1;33m)\u001b[0m\u001b[1;33m\u001b[0m\u001b[1;33m\u001b[0m\u001b[0m\n\u001b[0m\u001b[0;32m    247\u001b[0m \u001b[0mlogging\u001b[0m\u001b[1;33m.\u001b[0m\u001b[0mgetLogger\u001b[0m\u001b[1;33m(\u001b[0m\u001b[1;33m)\u001b[0m\u001b[1;33m.\u001b[0m\u001b[0minfo\u001b[0m\u001b[1;33m(\u001b[0m\u001b[1;34m'Initialising Sydx version %s'\u001b[0m \u001b[1;33m%\u001b[0m \u001b[0m__version__\u001b[0m\u001b[1;33m)\u001b[0m\u001b[1;33m\u001b[0m\u001b[1;33m\u001b[0m\u001b[0m\n\u001b[0;32m    248\u001b[0m \u001b[1;33m\u001b[0m\u001b[0m\n",
      "\u001b[1;32mC:\\Programs\\Win64\\Anaconda\\V4.4.0_3.6\\lib\\logging\\config.py\u001b[0m in \u001b[0;36mfileConfig\u001b[1;34m(fname, defaults, disable_existing_loggers)\u001b[0m\n\u001b[0;32m     74\u001b[0m             \u001b[0mcp\u001b[0m\u001b[1;33m.\u001b[0m\u001b[0mread\u001b[0m\u001b[1;33m(\u001b[0m\u001b[0mfname\u001b[0m\u001b[1;33m)\u001b[0m\u001b[1;33m\u001b[0m\u001b[1;33m\u001b[0m\u001b[0m\n\u001b[0;32m     75\u001b[0m \u001b[1;33m\u001b[0m\u001b[0m\n\u001b[1;32m---> 76\u001b[1;33m     \u001b[0mformatters\u001b[0m \u001b[1;33m=\u001b[0m \u001b[0m_create_formatters\u001b[0m\u001b[1;33m(\u001b[0m\u001b[0mcp\u001b[0m\u001b[1;33m)\u001b[0m\u001b[1;33m\u001b[0m\u001b[1;33m\u001b[0m\u001b[0m\n\u001b[0m\u001b[0;32m     77\u001b[0m \u001b[1;33m\u001b[0m\u001b[0m\n\u001b[0;32m     78\u001b[0m     \u001b[1;31m# critical section\u001b[0m\u001b[1;33m\u001b[0m\u001b[1;33m\u001b[0m\u001b[1;33m\u001b[0m\u001b[0m\n",
      "\u001b[1;32mC:\\Programs\\Win64\\Anaconda\\V4.4.0_3.6\\lib\\logging\\config.py\u001b[0m in \u001b[0;36m_create_formatters\u001b[1;34m(cp)\u001b[0m\n\u001b[0;32m    107\u001b[0m \u001b[1;32mdef\u001b[0m \u001b[0m_create_formatters\u001b[0m\u001b[1;33m(\u001b[0m\u001b[0mcp\u001b[0m\u001b[1;33m)\u001b[0m\u001b[1;33m:\u001b[0m\u001b[1;33m\u001b[0m\u001b[1;33m\u001b[0m\u001b[0m\n\u001b[0;32m    108\u001b[0m     \u001b[1;34m\"\"\"Create and return formatters\"\"\"\u001b[0m\u001b[1;33m\u001b[0m\u001b[1;33m\u001b[0m\u001b[0m\n\u001b[1;32m--> 109\u001b[1;33m     \u001b[0mflist\u001b[0m \u001b[1;33m=\u001b[0m \u001b[0mcp\u001b[0m\u001b[1;33m[\u001b[0m\u001b[1;34m\"formatters\"\u001b[0m\u001b[1;33m]\u001b[0m\u001b[1;33m[\u001b[0m\u001b[1;34m\"keys\"\u001b[0m\u001b[1;33m]\u001b[0m\u001b[1;33m\u001b[0m\u001b[1;33m\u001b[0m\u001b[0m\n\u001b[0m\u001b[0;32m    110\u001b[0m     \u001b[1;32mif\u001b[0m \u001b[1;32mnot\u001b[0m \u001b[0mlen\u001b[0m\u001b[1;33m(\u001b[0m\u001b[0mflist\u001b[0m\u001b[1;33m)\u001b[0m\u001b[1;33m:\u001b[0m\u001b[1;33m\u001b[0m\u001b[1;33m\u001b[0m\u001b[0m\n\u001b[0;32m    111\u001b[0m         \u001b[1;32mreturn\u001b[0m \u001b[1;33m{\u001b[0m\u001b[1;33m}\u001b[0m\u001b[1;33m\u001b[0m\u001b[1;33m\u001b[0m\u001b[0m\n",
      "\u001b[1;32mC:\\Programs\\Win64\\Anaconda\\V4.4.0_3.6\\lib\\configparser.py\u001b[0m in \u001b[0;36m__getitem__\u001b[1;34m(self, key)\u001b[0m\n\u001b[0;32m    957\u001b[0m     \u001b[1;32mdef\u001b[0m \u001b[0m__getitem__\u001b[0m\u001b[1;33m(\u001b[0m\u001b[0mself\u001b[0m\u001b[1;33m,\u001b[0m \u001b[0mkey\u001b[0m\u001b[1;33m)\u001b[0m\u001b[1;33m:\u001b[0m\u001b[1;33m\u001b[0m\u001b[1;33m\u001b[0m\u001b[0m\n\u001b[0;32m    958\u001b[0m         \u001b[1;32mif\u001b[0m \u001b[0mkey\u001b[0m \u001b[1;33m!=\u001b[0m \u001b[0mself\u001b[0m\u001b[1;33m.\u001b[0m\u001b[0mdefault_section\u001b[0m \u001b[1;32mand\u001b[0m \u001b[1;32mnot\u001b[0m \u001b[0mself\u001b[0m\u001b[1;33m.\u001b[0m\u001b[0mhas_section\u001b[0m\u001b[1;33m(\u001b[0m\u001b[0mkey\u001b[0m\u001b[1;33m)\u001b[0m\u001b[1;33m:\u001b[0m\u001b[1;33m\u001b[0m\u001b[1;33m\u001b[0m\u001b[0m\n\u001b[1;32m--> 959\u001b[1;33m             \u001b[1;32mraise\u001b[0m \u001b[0mKeyError\u001b[0m\u001b[1;33m(\u001b[0m\u001b[0mkey\u001b[0m\u001b[1;33m)\u001b[0m\u001b[1;33m\u001b[0m\u001b[1;33m\u001b[0m\u001b[0m\n\u001b[0m\u001b[0;32m    960\u001b[0m         \u001b[1;32mreturn\u001b[0m \u001b[0mself\u001b[0m\u001b[1;33m.\u001b[0m\u001b[0m_proxies\u001b[0m\u001b[1;33m[\u001b[0m\u001b[0mkey\u001b[0m\u001b[1;33m]\u001b[0m\u001b[1;33m\u001b[0m\u001b[1;33m\u001b[0m\u001b[0m\n\u001b[0;32m    961\u001b[0m \u001b[1;33m\u001b[0m\u001b[0m\n",
      "\u001b[1;31mKeyError\u001b[0m: 'formatters'"
     ]
    }
   ],
   "source": [
    "import sydx\n",
    "\n",
    "import importlib\n",
    "importlib.reload(sydx)"
   ]
  },
  {
   "cell_type": "code",
   "execution_count": 3,
   "metadata": {},
   "outputs": [
    {
     "name": "stderr",
     "output_type": "stream",
     "text": [
      "2019-06-15 10:48:01,456 root         INFO     Attempting to listen on port 4782\n",
      "2019-06-15 10:48:01,465 root         INFO     Waiting for a client to connect to the socket\n"
     ]
    },
    {
     "data": {
      "text/plain": [
       "4782"
      ]
     },
     "execution_count": 3,
     "metadata": {},
     "output_type": "execute_result"
    },
    {
     "name": "stderr",
     "output_type": "stream",
     "text": [
      "2019-06-15 10:48:05,587 root         INFO     Client connected. Kicking off a new thread to service this client\n",
      "2019-06-15 10:48:05,589 root         INFO     Waiting for a client to connect to the socket\n",
      "2019-06-15 10:48:05,600 root         INFO     Client connected. Kicking off a new thread to service this client\n",
      "2019-06-15 10:48:05,601 root         INFO     Waiting for a client to connect to the socket\n",
      "2019-06-15 10:48:05,602 root         DEBUG    Acquiring storage lock\n",
      "2019-06-15 10:48:05,613 root         DEBUG    Releasing storage lock\n",
      "2019-06-15 10:48:05,614 root         DEBUG    Acquiring storage lock\n",
      "2019-06-15 10:48:05,616 root         DEBUG    Releasing storage lock\n"
     ]
    }
   ],
   "source": [
    "sydx.listen()"
   ]
  },
  {
   "cell_type": "code",
   "execution_count": 4,
   "metadata": {},
   "outputs": [
    {
     "data": {
      "text/plain": [
       "4782"
      ]
     },
     "execution_count": 4,
     "metadata": {},
     "output_type": "execute_result"
    }
   ],
   "source": [
    "sydx.server_port()"
   ]
  },
  {
   "cell_type": "code",
   "execution_count": 5,
   "metadata": {},
   "outputs": [
    {
     "name": "stderr",
     "output_type": "stream",
     "text": [
      "2019-06-15 10:48:12,429 root         DEBUG    Connecting on socket <socket.socket fd=1256, family=AddressFamily.AF_INET, type=SocketKind.SOCK_STREAM, proto=0>\n",
      "2019-06-15 10:48:12,441 root         DEBUG    Sending request: {\"request_type\": \"HANDSHAKE_REQUEST\", \"host\": \"DESKTOP-EFQ7TT8\", \"pid\": 22856, \"local_port\": 4782}\n",
      "2019-06-15 10:48:12,443 root         DEBUG    Receiving response\n",
      "2019-06-15 10:48:12,454 root         DEBUG    Received response: {\"response_type\": \"HANDSHAKE_RESPONSE\", \"connection_handle\": \"b09a4c9c-8f52-11e9-918c-d2c7252ccd08\"}\n",
      "\n",
      "2019-06-15 10:48:12,455 root         DEBUG    Acquiring storage lock\n",
      "2019-06-15 10:48:12,456 root         DEBUG    Releasing storage lock\n",
      "2019-06-15 10:48:12,458 root         DEBUG    Connecting on socket <socket.socket fd=1256, family=AddressFamily.AF_INET, type=SocketKind.SOCK_STREAM, proto=0>\n",
      "2019-06-15 10:48:12,460 root         DEBUG    Sending request: {\"request_type\": \"SYNC_STORAGE_REQUEST\", \"storage_snapshot\": {}}\n",
      "2019-06-15 10:48:12,461 root         DEBUG    Receiving response\n",
      "2019-06-15 10:48:12,487 root         DEBUG    Received response: {\"response_type\": \"SYNC_STORAGE_RESPONSE\", \"storage_snapshot\": {}}\n",
      "\n",
      "2019-06-15 10:48:12,489 root         DEBUG    Connecting on socket <socket.socket fd=1256, family=AddressFamily.AF_INET, type=SocketKind.SOCK_STREAM, proto=0>\n",
      "2019-06-15 10:48:12,490 root         DEBUG    Sending request: {\"request_type\": \"PUT_REQUEST\", \"name\": \"hello\", \"value\": \"world\"}\n",
      "2019-06-15 10:48:12,492 root         DEBUG    Receiving response\n",
      "2019-06-15 10:48:12,522 root         DEBUG    Received response: {\"response_type\": \"PUT_RESPONSE\", \"result\": \"SUCCESS\"}\n",
      "\n",
      "2019-06-15 10:48:12,523 root         DEBUG    Acquiring storage lock\n",
      "2019-06-15 10:48:12,525 root         DEBUG    Releasing storage lock\n"
     ]
    }
   ],
   "source": [
    "sydx.put('hello', 'world')"
   ]
  },
  {
   "cell_type": "code",
   "execution_count": 7,
   "metadata": {},
   "outputs": [
    {
     "name": "stderr",
     "output_type": "stream",
     "text": [
      "2019-06-11 12:18:23,450 root         DEBUG    Acquiring storage lock\n",
      "2019-06-11 12:18:23,451 root         DEBUG    Releasing storage lock\n"
     ]
    },
    {
     "data": {
      "text/plain": [
       "'world'"
      ]
     },
     "execution_count": 7,
     "metadata": {},
     "output_type": "execute_result"
    }
   ],
   "source": [
    "sydx.get('hello')"
   ]
  },
  {
   "cell_type": "code",
   "execution_count": 6,
   "metadata": {},
   "outputs": [
    {
     "name": "stderr",
     "output_type": "stream",
     "text": [
      "2019-06-15 10:48:28,394 root         DEBUG    Connecting on socket <socket.socket fd=1148, family=AddressFamily.AF_INET, type=SocketKind.SOCK_STREAM, proto=0>\n",
      "2019-06-15 10:48:28,396 root         DEBUG    Sending request: {\"request_type\": \"PUT_REQUEST\", \"name\": \"age\", \"value\": 100}\n",
      "2019-06-15 10:48:28,398 root         DEBUG    Receiving response\n",
      "2019-06-15 10:48:28,411 root         DEBUG    Received response: {\"response_type\": \"PUT_RESPONSE\", \"result\": \"SUCCESS\"}\n",
      "\n",
      "2019-06-15 10:48:28,412 root         DEBUG    Acquiring storage lock\n",
      "2019-06-15 10:48:28,413 root         DEBUG    Releasing storage lock\n"
     ]
    }
   ],
   "source": [
    "sydx.put('age', 100)"
   ]
  },
  {
   "cell_type": "code",
   "execution_count": 9,
   "metadata": {},
   "outputs": [
    {
     "name": "stderr",
     "output_type": "stream",
     "text": [
      "2019-06-11 12:18:50,445 root         DEBUG    Connecting on socket <socket.socket fd=1200, family=AddressFamily.AF_INET, type=SocketKind.SOCK_STREAM, proto=0>\n",
      "2019-06-11 12:18:50,447 root         DEBUG    Sending request: {\"request_type\": \"PUT_REQUEST\", \"name\": \"name\", \"value\": \"Paul\"}\n",
      "2019-06-11 12:18:50,448 root         DEBUG    Receiving response\n",
      "2019-06-11 12:18:50,459 root         DEBUG    Received response: {\"response_type\": \"PUT_RESPONSE\", \"result\": \"SUCCESS\"}\n",
      "\n",
      "2019-06-11 12:18:50,460 root         DEBUG    Acquiring storage lock\n",
      "2019-06-11 12:18:50,461 root         DEBUG    Releasing storage lock\n"
     ]
    }
   ],
   "source": [
    "sydx.put('name', 'Paul')"
   ]
  },
  {
   "cell_type": "code",
   "execution_count": 10,
   "metadata": {},
   "outputs": [
    {
     "name": "stderr",
     "output_type": "stream",
     "text": [
      "2019-06-11 12:18:55,119 root         DEBUG    Acquiring storage lock\n",
      "2019-06-11 12:18:55,120 root         DEBUG    Releasing storage lock\n"
     ]
    },
    {
     "data": {
      "text/plain": [
       "'Paul'"
      ]
     },
     "execution_count": 10,
     "metadata": {},
     "output_type": "execute_result"
    }
   ],
   "source": [
    "sydx.get('name')"
   ]
  },
  {
   "cell_type": "code",
   "execution_count": null,
   "metadata": {
    "collapsed": true
   },
   "outputs": [],
   "source": []
  }
 ],
 "metadata": {
  "kernelspec": {
   "display_name": "Python 3",
   "language": "python",
   "name": "python3"
  },
  "language_info": {
   "codemirror_mode": {
    "name": "ipython",
    "version": 3
   },
   "file_extension": ".py",
   "mimetype": "text/x-python",
   "name": "python",
   "nbconvert_exporter": "python",
   "pygments_lexer": "ipython3",
   "version": "3.6.8"
  }
 },
 "nbformat": 4,
 "nbformat_minor": 2
}
