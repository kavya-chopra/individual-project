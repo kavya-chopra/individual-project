{
 "cells": [
  {
   "cell_type": "code",
   "execution_count": 1,
   "metadata": {},
   "outputs": [
    {
     "name": "stderr",
     "output_type": "stream",
     "text": [
      "2023-05-10 22:34:50,122 root         INFO     Initialising Sydx version 1.0.0\n",
      "2023-05-10 22:34:50,424 root         INFO     Loaded 3 deserialisers and 3 serialisers\n",
      "2023-05-10 22:34:50,436 root         INFO     Initialising Sydx version 1.0.0\n",
      "2023-05-10 22:34:50,440 root         INFO     Loaded 3 deserialisers and 3 serialisers\n",
      "2023-05-10 22:34:50,447 root         INFO     Waiting for a client to connect to the socket\n",
      "2023-05-10 22:34:50,455 root         DEBUG    Connecting on socket <socket.socket fd=1596, family=2, type=1, proto=0>\n",
      "2023-05-10 22:34:50,469 root         DEBUG    Sending request: {'request_type': 'HANDSHAKE_REQUEST', 'host': 'DESKTOP-B47DTMS', 'pid': 24376, 'local_port': 4783}\n",
      "2023-05-10 22:34:50,473 root         DEBUG    Receiving response\n",
      "2023-05-10 22:34:50,496 root         DEBUG    data length: 103\n",
      "2023-05-10 22:34:50,499 root         DEBUG    Received response: {'response_type': 'HANDSHAKE_RESPONSE', 'connection_handle': '7e746750-ef7a-11ed-b7bc-a0a4c5212e55'}\n",
      "2023-05-10 22:34:50,502 root         DEBUG    Acquiring storage lock\n",
      "2023-05-10 22:34:50,506 root         DEBUG    Releasing storage lock\n",
      "2023-05-10 22:34:50,510 root         DEBUG    Connecting on socket <socket.socket fd=1652, family=2, type=1, proto=0>\n",
      "2023-05-10 22:34:50,516 root         DEBUG    Sending request: {'request_type': 'SYNC_STORAGE_REQUEST', 'storage_snapshot': {}}\n",
      "2023-05-10 22:34:50,520 root         DEBUG    Receiving response\n",
      "2023-05-10 22:34:50,548 root         DEBUG    data length: 69\n",
      "2023-05-10 22:34:50,551 root         DEBUG    Received response: {'response_type': 'SYNC_STORAGE_RESPONSE', 'storage_snapshot': {}}\n",
      "2023-05-10 22:34:50,553 root         DEBUG    Acquiring storage lock\n",
      "2023-05-10 22:34:50,555 root         DEBUG    Releasing storage lock\n"
     ]
    },
    {
     "data": {
      "text/plain": [
       "'7e746750-ef7a-11ed-b7bc-a0a4c5212e55'"
      ]
     },
     "execution_count": 1,
     "metadata": {},
     "output_type": "execute_result"
    },
    {
     "name": "stderr",
     "output_type": "stream",
     "text": [
      "2023-05-10 22:35:09,620 root         INFO     Client connected. Kicking off a new thread to service this client\n",
      "2023-05-10 22:35:09,626 root         INFO     Waiting for a client to connect to the socket\n",
      "2023-05-10 22:35:09,644 root         INFO     Client connected. Kicking off a new thread to service this client\n",
      "2023-05-10 22:35:09,648 root         INFO     Waiting for a client to connect to the socket\n",
      "2023-05-10 22:35:09,648 root         DEBUG    Acquiring storage lock\n",
      "2023-05-10 22:35:09,656 root         DEBUG    Releasing storage lock\n",
      "2023-05-10 22:35:09,659 root         DEBUG    Acquiring storage lock\n",
      "2023-05-10 22:35:09,662 root         DEBUG    Releasing storage lock\n"
     ]
    },
    {
     "name": "stdout",
     "output_type": "stream",
     "text": [
      "data length:  92\n",
      "Received request:  {'request_type': 'HANDSHAKE_REQUEST', 'host': 'DESKTOP-B47DTMS', 'pid': 43220, 'local_port': 4782}\n",
      "fuck0\n",
      "Sending response:  {'response_type': 'HANDSHAKE_RESPONSE', 'connection_handle': '89dc4478-ef7a-11ed-a6f7-a0a4c5212e55'}\n",
      "data length:  67\n",
      "Received request:  {'request_type': 'SYNC_STORAGE_REQUEST', 'storage_snapshot': {}}\n",
      "fuck0\n",
      "Sending response:  {'response_type': 'SYNC_STORAGE_RESPONSE', 'storage_snapshot': {}}\n"
     ]
    },
    {
     "name": "stderr",
     "output_type": "stream",
     "text": [
      "2023-05-10 22:35:30,087 root         INFO     Client connected. Kicking off a new thread to service this client\n",
      "2023-05-10 22:35:30,090 root         INFO     Waiting for a client to connect to the socket\n",
      "2023-05-10 22:35:30,108 root         INFO     Client connected. Kicking off a new thread to service this client\n",
      "2023-05-10 22:35:30,112 root         INFO     Waiting for a client to connect to the socket\n",
      "2023-05-10 22:35:30,112 root         DEBUG    Acquiring storage lock\n",
      "2023-05-10 22:35:30,119 root         DEBUG    Releasing storage lock\n",
      "2023-05-10 22:35:30,121 root         DEBUG    Acquiring storage lock\n",
      "2023-05-10 22:35:30,123 root         DEBUG    Releasing storage lock\n",
      "2023-05-10 22:35:30,138 root         INFO     Client connected. Kicking off a new thread to service this client\n",
      "2023-05-10 22:35:30,149 root         INFO     Waiting for a client to connect to the socket\n",
      "2023-05-10 22:35:30,149 root         DEBUG    Acquiring storage lock\n",
      "2023-05-10 22:35:30,161 root         DEBUG    Releasing storage lock\n"
     ]
    },
    {
     "name": "stdout",
     "output_type": "stream",
     "text": [
      "data length:  92\n",
      "Received request:  {'request_type': 'HANDSHAKE_REQUEST', 'host': 'DESKTOP-B47DTMS', 'pid': 43220, 'local_port': 4782}\n",
      "fuck0\n",
      "Sending response:  {'response_type': 'HANDSHAKE_RESPONSE', 'connection_handle': '960ee45f-ef7a-11ed-a393-a0a4c5212e55'}\n",
      "data length:  67\n",
      "Received request:  {'request_type': 'SYNC_STORAGE_REQUEST', 'storage_snapshot': {}}\n",
      "fuck0\n",
      "Sending response:  {'response_type': 'SYNC_STORAGE_RESPONSE', 'storage_snapshot': {}}\n",
      "data length:  190\n",
      "Received request:  {'request_type': 'PUT_REQUEST', 'name': 'hello', 'value': {'value_type': 'dict', 'value': {'hello': {'value_type': 'string', 'value': 'world'}, 'test': {'value_type': 'int', 'value': 123}}}}\n",
      "fuck0\n",
      "fuck1\n",
      "fuck2\n",
      "Sending response:  {'response_type': 'PUT_RESPONSE', 'result': 'SUCCESS'}\n"
     ]
    }
   ],
   "source": [
    "import os, sys\n",
    "sys.path.append(os.path.abspath('../main'))\n",
    "\n",
    "import sydx\n",
    "\n",
    "import importlib\n",
    "importlib.reload(sydx)\n",
    "\n",
    "sydx.port(4783)\n",
    "\n",
    "sydx.connect('localhost', 4782)"
   ]
  },
  {
   "cell_type": "code",
   "execution_count": null,
   "metadata": {},
   "outputs": [],
   "source": [
    "# import sydx\n",
    "\n",
    "# import importlib\n",
    "# importlib.reload(sydx)"
   ]
  },
  {
   "cell_type": "code",
   "execution_count": null,
   "metadata": {},
   "outputs": [],
   "source": [
    "# sydx.port(4783)"
   ]
  },
  {
   "cell_type": "code",
   "execution_count": null,
   "metadata": {},
   "outputs": [],
   "source": [
    "# sydx.connect('localhost', 4782)"
   ]
  },
  {
   "cell_type": "code",
   "execution_count": null,
   "metadata": {},
   "outputs": [],
   "source": [
    "sydx.server_port()"
   ]
  },
  {
   "cell_type": "code",
   "execution_count": null,
   "metadata": {},
   "outputs": [
    {
     "name": "stderr",
     "output_type": "stream",
     "text": [
      "2023-05-10 22:36:39,981 root         DEBUG    Acquiring storage lock\n",
      "2023-05-10 22:36:39,983 root         DEBUG    Releasing storage lock\n",
      "2023-05-10 22:36:39,985 root         DEBUG    Attempting to deserialise the object named 'hello'\n",
      "2023-05-10 22:36:39,986 root         DEBUG    Trying converter <function numpy_array_from_json_object at 0x000001AFF19B04A0>\n",
      "2023-05-10 22:36:39,990 root         DEBUG    The converter has failed\n",
      "2023-05-10 22:36:39,992 root         DEBUG    Unable to deserialise an object\n",
      "2023-05-10 22:36:39,993 root         DEBUG    Trying converter <function numpy_numeral_from_json_object at 0x000001AFE3336980>\n",
      "2023-05-10 22:36:39,996 root         DEBUG    The converter has failed\n",
      "2023-05-10 22:36:39,998 root         DEBUG    Unable to deserialise an object\n",
      "2023-05-10 22:36:39,999 root         DEBUG    Trying converter <function plain_old_data_from_json_object at 0x000001AFF19B05E0>\n",
      "2023-05-10 22:36:40,001 root         DEBUG    Attempting to deserialise a plain old data object\n",
      "2023-05-10 22:36:40,002 root         DEBUG    Trying converter <function numpy_array_from_json_object at 0x000001AFF19B04A0>\n",
      "2023-05-10 22:36:40,004 root         DEBUG    The converter has failed\n",
      "2023-05-10 22:36:40,006 root         DEBUG    Unable to deserialise an object\n",
      "2023-05-10 22:36:40,009 root         DEBUG    Trying converter <function numpy_numeral_from_json_object at 0x000001AFE3336980>\n",
      "2023-05-10 22:36:40,011 root         DEBUG    The converter has failed\n",
      "2023-05-10 22:36:40,012 root         DEBUG    Unable to deserialise an object\n",
      "2023-05-10 22:36:40,014 root         DEBUG    Trying converter <function plain_old_data_from_json_object at 0x000001AFF19B05E0>\n",
      "2023-05-10 22:36:40,015 root         DEBUG    Attempting to deserialise a plain old data object\n",
      "2023-05-10 22:36:40,016 root         DEBUG    Trying converter <function numpy_array_from_json_object at 0x000001AFF19B04A0>\n",
      "2023-05-10 22:36:40,017 root         DEBUG    The converter has failed\n",
      "2023-05-10 22:36:40,019 root         DEBUG    Unable to deserialise an object\n",
      "2023-05-10 22:36:40,035 root         DEBUG    Trying converter <function numpy_numeral_from_json_object at 0x000001AFE3336980>\n",
      "2023-05-10 22:36:40,037 root         DEBUG    The converter has failed\n",
      "2023-05-10 22:36:40,039 root         DEBUG    Unable to deserialise an object\n",
      "2023-05-10 22:36:40,041 root         DEBUG    Trying converter <function plain_old_data_from_json_object at 0x000001AFF19B05E0>\n",
      "2023-05-10 22:36:40,042 root         DEBUG    Attempting to deserialise a plain old data object\n",
      "2023-05-10 22:36:40,043 root         DEBUG    Trying converter <function numpy_array_from_json_object at 0x000001AFF19B04A0>\n",
      "2023-05-10 22:36:40,044 root         DEBUG    The converter has failed\n",
      "2023-05-10 22:36:40,046 root         DEBUG    Unable to deserialise an object\n",
      "2023-05-10 22:36:40,048 root         DEBUG    Trying converter <function numpy_numeral_from_json_object at 0x000001AFE3336980>\n",
      "2023-05-10 22:36:40,050 root         DEBUG    The converter has failed\n",
      "2023-05-10 22:36:40,052 root         DEBUG    Unable to deserialise an object\n",
      "2023-05-10 22:36:40,054 root         DEBUG    Trying converter <function plain_old_data_from_json_object at 0x000001AFF19B05E0>\n",
      "2023-05-10 22:36:40,056 root         DEBUG    Attempting to deserialise a plain old data object\n",
      "2023-05-10 22:36:40,057 root         DEBUG    Deserialisation result: [1, 2, 3]\n"
     ]
    },
    {
     "data": {
      "text/plain": [
       "[1, 2, 3]"
      ]
     },
     "execution_count": 4,
     "metadata": {},
     "output_type": "execute_result"
    },
    {
     "name": "stderr",
     "output_type": "stream",
     "text": [
      "2023-05-11 02:59:18,270 root         INFO     Client connected. Kicking off a new thread to service this client\n",
      "2023-05-11 02:59:18,272 root         INFO     Waiting for a client to connect to the socket\n",
      "2023-05-11 02:59:18,279 root         DEBUG    Acquiring storage lock\n",
      "2023-05-11 02:59:18,281 root         DEBUG    Releasing storage lock\n",
      "2023-05-11 02:59:18,288 root         INFO     Client connected. Kicking off a new thread to service this client\n",
      "2023-05-11 02:59:18,290 root         INFO     Waiting for a client to connect to the socket\n",
      "2023-05-11 02:59:18,291 root         DEBUG    Acquiring storage lock\n",
      "2023-05-11 02:59:18,296 root         DEBUG    Releasing storage lock\n",
      "2023-05-11 02:59:18,303 root         INFO     Client connected. Kicking off a new thread to service this client\n",
      "2023-05-11 02:59:18,305 root         INFO     Waiting for a client to connect to the socket\n",
      "2023-05-11 02:59:18,305 root         DEBUG    Acquiring storage lock\n",
      "2023-05-11 02:59:18,312 root         DEBUG    Releasing storage lock\n"
     ]
    },
    {
     "name": "stdout",
     "output_type": "stream",
     "text": [
      "data length:  92\n",
      "Received request:  {'request_type': 'PUT_REQUEST', 'name': 'age', 'value': {'value_type': 'int', 'value': 100}}\n",
      "fuck0\n",
      "fuck1\n",
      "fuck2\n",
      "Sending response:  {'response_type': 'PUT_RESPONSE', 'result': 'SUCCESS'}\n",
      "data length:  92\n",
      "Received request:  {'request_type': 'PUT_REQUEST', 'name': 'age', 'value': {'value_type': 'int', 'value': 100}}\n",
      "fuck0\n",
      "fuck1\n",
      "fuck2\n",
      "Sending response:  {'response_type': 'PUT_RESPONSE', 'result': 'SUCCESS'}\n",
      "data length:  92\n",
      "Received request:  {'request_type': 'PUT_REQUEST', 'name': 'age', 'value': {'value_type': 'int', 'value': 100}}\n",
      "fuck0\n",
      "fuck1\n",
      "fuck2\n",
      "Sending response:  {'response_type': 'PUT_RESPONSE', 'result': 'SUCCESS'}\n"
     ]
    }
   ],
   "source": [
    "sydx.get('hello')"
   ]
  },
  {
   "cell_type": "code",
   "execution_count": null,
   "metadata": {},
   "outputs": [
    {
     "name": "stderr",
     "output_type": "stream",
     "text": [
      "2023-05-11 02:59:25,117 root         DEBUG    Acquiring storage lock\n",
      "2023-05-11 02:59:25,119 root         DEBUG    Releasing storage lock\n",
      "2023-05-11 02:59:25,120 root         DEBUG    Attempting to deserialise the object named 'age'\n",
      "2023-05-11 02:59:25,121 root         DEBUG    Trying converter <function numpy_array_from_json_object at 0x000001AFF19B04A0>\n",
      "2023-05-11 02:59:25,122 root         DEBUG    The converter has failed\n",
      "2023-05-11 02:59:25,124 root         DEBUG    Unable to deserialise an object\n",
      "2023-05-11 02:59:25,125 root         DEBUG    Trying converter <function numpy_numeral_from_json_object at 0x000001AFE3336980>\n",
      "2023-05-11 02:59:25,126 root         DEBUG    The converter has failed\n",
      "2023-05-11 02:59:25,127 root         DEBUG    Unable to deserialise an object\n",
      "2023-05-11 02:59:25,128 root         DEBUG    Trying converter <function plain_old_data_from_json_object at 0x000001AFF19B05E0>\n",
      "2023-05-11 02:59:25,130 root         DEBUG    Attempting to deserialise a plain old data object\n",
      "2023-05-11 02:59:25,131 root         DEBUG    Deserialisation result: 100\n"
     ]
    },
    {
     "data": {
      "text/plain": [
       "100"
      ]
     },
     "execution_count": 5,
     "metadata": {},
     "output_type": "execute_result"
    },
    {
     "name": "stderr",
     "output_type": "stream",
     "text": [
      "2023-05-11 02:59:37,688 root         INFO     Client connected. Kicking off a new thread to service this client\n",
      "2023-05-11 02:59:37,690 root         INFO     Waiting for a client to connect to the socket\n",
      "2023-05-11 02:59:37,695 root         DEBUG    Acquiring storage lock\n",
      "2023-05-11 02:59:37,698 root         DEBUG    Releasing storage lock\n",
      "2023-05-11 02:59:37,707 root         INFO     Client connected. Kicking off a new thread to service this client\n",
      "2023-05-11 02:59:37,710 root         INFO     Waiting for a client to connect to the socket\n",
      "2023-05-11 02:59:37,712 root         DEBUG    Acquiring storage lock\n",
      "2023-05-11 02:59:37,719 root         DEBUG    Releasing storage lock\n",
      "2023-05-11 02:59:37,730 root         INFO     Client connected. Kicking off a new thread to service this client\n",
      "2023-05-11 02:59:37,735 root         INFO     Waiting for a client to connect to the socket\n",
      "2023-05-11 02:59:37,736 root         DEBUG    Acquiring storage lock\n",
      "2023-05-11 02:59:37,743 root         DEBUG    Releasing storage lock\n"
     ]
    },
    {
     "name": "stdout",
     "output_type": "stream",
     "text": [
      "data length:  101\n",
      "Received request:  {'request_type': 'PUT_REQUEST', 'name': 'name', 'value': {'value_type': 'string', 'value': 'Paul'}}\n",
      "fuck0\n",
      "fuck1\n",
      "fuck2\n",
      "Sending response:  {'response_type': 'PUT_RESPONSE', 'result': 'SUCCESS'}\n",
      "data length:  101\n",
      "Received request:  {'request_type': 'PUT_REQUEST', 'name': 'name', 'value': {'value_type': 'string', 'value': 'Paul'}}\n",
      "fuck0\n",
      "fuck1\n",
      "fuck2\n",
      "Sending response:  {'response_type': 'PUT_RESPONSE', 'result': 'SUCCESS'}\n",
      "data length:  101\n",
      "Received request:  {'request_type': 'PUT_REQUEST', 'name': 'name', 'value': {'value_type': 'string', 'value': 'Paul'}}\n",
      "fuck0\n",
      "fuck1\n",
      "fuck2\n",
      "Sending response:  {'response_type': 'PUT_RESPONSE', 'result': 'SUCCESS'}\n"
     ]
    }
   ],
   "source": [
    "sydx.get('age')"
   ]
  },
  {
   "cell_type": "code",
   "execution_count": null,
   "metadata": {},
   "outputs": [],
   "source": [
    "sydx.get('name')"
   ]
  },
  {
   "cell_type": "code",
   "execution_count": null,
   "metadata": {},
   "outputs": [
    {
     "name": "stderr",
     "output_type": "stream",
     "text": [
      "2023-05-10 22:35:51,676 root         DEBUG    Attempting to serialise the object named 'day'\n",
      "2023-05-10 22:35:51,678 root         DEBUG    Trying converter <function numpy_array_to_json_object at 0x000001AFF188F1A0>\n",
      "2023-05-10 22:35:51,681 root         DEBUG    The converter has failed\n",
      "2023-05-10 22:35:51,683 root         DEBUG    Unable to serialise an object\n",
      "2023-05-10 22:35:51,685 root         DEBUG    Trying converter <function numpy_numeral_to_json_object at 0x000001AFE331B060>\n",
      "2023-05-10 22:35:51,688 root         DEBUG    The converter has failed\n",
      "2023-05-10 22:35:51,689 root         DEBUG    Unable to serialise an object\n",
      "2023-05-10 22:35:51,691 root         DEBUG    Trying converter <function plain_old_data_to_json_object at 0x000001AFF19B0540>\n",
      "2023-05-10 22:35:51,694 root         DEBUG    Attempting to serialise a plain old data object\n",
      "2023-05-10 22:35:51,699 root         DEBUG    Serialisation result: {'value_type': 'string', 'value': 'Saturday'}\n",
      "2023-05-10 22:35:51,701 root         DEBUG    Connecting on socket <socket.socket fd=1476, family=2, type=1, proto=0>\n",
      "2023-05-10 22:35:51,705 root         DEBUG    Sending request: {'request_type': 'HANDSHAKE_REQUEST', 'host': 'DESKTOP-B47DTMS', 'pid': 24376, 'local_port': 4783}\n",
      "2023-05-10 22:35:51,708 root         DEBUG    Receiving response\n",
      "2023-05-10 22:35:51,714 root         DEBUG    data length: 103\n",
      "2023-05-10 22:35:51,718 root         DEBUG    Received response: {'response_type': 'HANDSHAKE_RESPONSE', 'connection_handle': 'a2f17664-ef7a-11ed-a232-a0a4c5212e55'}\n",
      "2023-05-10 22:35:51,721 root         DEBUG    Acquiring storage lock\n",
      "2023-05-10 22:35:51,723 root         DEBUG    Releasing storage lock\n",
      "2023-05-10 22:35:51,726 root         DEBUG    Connecting on socket <socket.socket fd=1728, family=2, type=1, proto=0>\n",
      "2023-05-10 22:35:51,729 root         DEBUG    Sending request: {'request_type': 'SYNC_STORAGE_REQUEST', 'storage_snapshot': {'hello': {'value_type': 'dict', 'value': {'hello': {'value_type': 'string', 'value': 'world'}, 'test': {'value_type': 'int', 'value': 123}}}}}\n",
      "2023-05-10 22:35:51,732 root         DEBUG    Receiving response\n",
      "2023-05-10 22:35:51,746 root         DEBUG    data length: 208\n",
      "2023-05-10 22:35:51,748 root         DEBUG    Received response: {'response_type': 'SYNC_STORAGE_RESPONSE', 'storage_snapshot': {'hello': {'value_type': 'dict', 'value': {'hello': {'value_type': 'string', 'value': 'world'}, 'test': {'value_type': 'int', 'value': 123}}}}}\n",
      "2023-05-10 22:35:51,750 root         DEBUG    Acquiring storage lock\n",
      "2023-05-10 22:35:51,751 root         DEBUG    Releasing storage lock\n",
      "2023-05-10 22:35:51,755 root         DEBUG    Connecting on socket <socket.socket fd=1760, family=2, type=1, proto=0>\n",
      "2023-05-10 22:35:51,758 root         DEBUG    Sending request: {'request_type': 'PUT_REQUEST', 'name': 'day', 'value': {'value_type': 'string', 'value': 'Saturday'}}\n",
      "2023-05-10 22:35:51,762 root         DEBUG    Receiving response\n",
      "2023-05-10 22:35:51,773 root         DEBUG    data length: 57\n",
      "2023-05-10 22:35:51,776 root         DEBUG    Received response: {'response_type': 'PUT_RESPONSE', 'result': 'SUCCESS'}\n",
      "2023-05-10 22:35:51,779 root         DEBUG    Connecting on socket <socket.socket fd=1764, family=2, type=1, proto=0>\n",
      "2023-05-10 22:35:51,784 root         DEBUG    Sending request: {'request_type': 'HANDSHAKE_REQUEST', 'host': 'DESKTOP-B47DTMS', 'pid': 24376, 'local_port': 4783}\n",
      "2023-05-10 22:35:51,787 root         DEBUG    Receiving response\n",
      "2023-05-10 22:35:51,790 root         DEBUG    data length: 103\n",
      "2023-05-10 22:35:51,792 root         DEBUG    Received response: {'response_type': 'HANDSHAKE_RESPONSE', 'connection_handle': 'a2fce8b8-ef7a-11ed-a95d-a0a4c5212e55'}\n",
      "2023-05-10 22:35:51,798 root         DEBUG    Acquiring storage lock\n",
      "2023-05-10 22:35:51,801 root         DEBUG    Releasing storage lock\n",
      "2023-05-10 22:35:51,805 root         DEBUG    Connecting on socket <socket.socket fd=1764, family=2, type=1, proto=0>\n",
      "2023-05-10 22:35:51,808 root         DEBUG    Sending request: {'request_type': 'SYNC_STORAGE_REQUEST', 'storage_snapshot': {'hello': {'value_type': 'dict', 'value': {'hello': {'value_type': 'string', 'value': 'world'}, 'test': {'value_type': 'int', 'value': 123}}}}}\n",
      "2023-05-10 22:35:51,811 root         DEBUG    Receiving response\n",
      "2023-05-10 22:35:51,837 root         DEBUG    data length: 261\n",
      "2023-05-10 22:35:51,839 root         DEBUG    Received response: {'response_type': 'SYNC_STORAGE_RESPONSE', 'storage_snapshot': {'hello': {'value_type': 'dict', 'value': {'hello': {'value_type': 'string', 'value': 'world'}, 'test': {'value_type': 'int', 'value': 123}}}, 'day': {'value_type': 'string', 'value': 'Saturday'}}}\n",
      "2023-05-10 22:35:51,842 root         DEBUG    Acquiring storage lock\n",
      "2023-05-10 22:35:51,845 root         DEBUG    Releasing storage lock\n",
      "2023-05-10 22:35:51,847 root         DEBUG    Connecting on socket <socket.socket fd=1700, family=2, type=1, proto=0>\n",
      "2023-05-10 22:35:51,850 root         DEBUG    Sending request: {'request_type': 'PUT_REQUEST', 'name': 'day', 'value': {'value_type': 'string', 'value': 'Saturday'}}\n",
      "2023-05-10 22:35:51,853 root         DEBUG    Receiving response\n",
      "2023-05-10 22:35:51,880 root         DEBUG    data length: 57\n",
      "2023-05-10 22:35:51,882 root         DEBUG    Received response: {'response_type': 'PUT_RESPONSE', 'result': 'SUCCESS'}\n",
      "2023-05-10 22:35:51,884 root         DEBUG    Acquiring storage lock\n",
      "2023-05-10 22:35:51,886 root         DEBUG    Releasing storage lock\n"
     ]
    },
    {
     "name": "stderr",
     "output_type": "stream",
     "text": [
      "2023-05-10 22:36:24,317 root         INFO     Client connected. Kicking off a new thread to service this client\n",
      "2023-05-10 22:36:24,322 root         INFO     Waiting for a client to connect to the socket\n",
      "2023-05-10 22:36:24,328 root         DEBUG    Acquiring storage lock\n",
      "2023-05-10 22:36:24,331 root         DEBUG    Releasing storage lock\n",
      "2023-05-10 22:36:24,342 root         INFO     Client connected. Kicking off a new thread to service this client\n",
      "2023-05-10 22:36:24,345 root         INFO     Waiting for a client to connect to the socket\n",
      "2023-05-10 22:36:24,359 root         INFO     Client connected. Kicking off a new thread to service this client\n",
      "2023-05-10 22:36:24,362 root         INFO     Waiting for a client to connect to the socket\n",
      "2023-05-10 22:36:24,363 root         DEBUG    Acquiring storage lock\n",
      "2023-05-10 22:36:24,371 root         DEBUG    Releasing storage lock\n",
      "2023-05-10 22:36:24,374 root         DEBUG    Acquiring storage lock\n",
      "2023-05-10 22:36:24,376 root         DEBUG    Releasing storage lock\n",
      "2023-05-10 22:36:24,391 root         INFO     Client connected. Kicking off a new thread to service this client\n",
      "2023-05-10 22:36:24,403 root         INFO     Waiting for a client to connect to the socket\n",
      "2023-05-10 22:36:24,403 root         DEBUG    Acquiring storage lock\n",
      "2023-05-10 22:36:24,414 root         DEBUG    Releasing storage lock\n",
      "2023-05-10 22:36:24,428 root         INFO     Client connected. Kicking off a new thread to service this client\n",
      "2023-05-10 22:36:24,441 root         INFO     Waiting for a client to connect to the socket\n",
      "2023-05-10 22:36:24,460 root         INFO     Client connected. Kicking off a new thread to service this client\n",
      "2023-05-10 22:36:24,471 root         INFO     Waiting for a client to connect to the socket\n",
      "2023-05-10 22:36:24,473 root         DEBUG    Acquiring storage lock\n",
      "2023-05-10 22:36:24,481 root         DEBUG    Releasing storage lock\n",
      "2023-05-10 22:36:24,483 root         DEBUG    Acquiring storage lock\n",
      "2023-05-10 22:36:24,484 root         DEBUG    Releasing storage lock\n",
      "2023-05-10 22:36:24,501 root         INFO     Client connected. Kicking off a new thread to service this client\n"
     ]
    },
    {
     "name": "stdout",
     "output_type": "stream",
     "text": [
      "data length:  213\n",
      "Received request:  {'request_type': 'PUT_REQUEST', 'name': 'hello', 'value': {'value_type': 'list', 'value': [{'value_type': 'int', 'value': 1}, {'value_type': 'int', 'value': 2}, {'value_type': 'int', 'value': 3}]}}\n",
      "fuck0\n",
      "fuck1\n",
      "fuck2\n",
      "Sending response:  {'response_type': 'PUT_RESPONSE', 'result': 'SUCCESS'}\n",
      "data length:  92\n",
      "Received request:  {'request_type': 'HANDSHAKE_REQUEST', 'host': 'DESKTOP-B47DTMS', 'pid': 43220, 'local_port': 4782}\n",
      "fuck0\n",
      "Sending response:  {'response_type': 'HANDSHAKE_RESPONSE', 'connection_handle': 'b664e453-ef7a-11ed-8a06-a0a4c5212e55'}\n",
      "data length:  259\n",
      "Received request:  {'request_type': 'SYNC_STORAGE_REQUEST', 'storage_snapshot': {'hello': {'value_type': 'dict', 'value': {'hello': {'value_type': 'string', 'value': 'world'}, 'test': {'value_type': 'int', 'value': 123}}}, 'day': {'value_type': 'string', 'value': 'Saturday'}}}\n",
      "fuck0\n",
      "Sending response:  {'response_type': 'SYNC_STORAGE_RESPONSE', 'storage_snapshot': {'hello': {'value_type': 'dict', 'value': {'hello': {'value_type': 'string', 'value': 'world'}, 'test': {'value_type': 'int', 'value': 123}}}, 'day': {'value_type': 'string', 'value': 'Saturday'}}}\n",
      "data length:  213\n",
      "Received request:  {'request_type': 'PUT_REQUEST', 'name': 'hello', 'value': {'value_type': 'list', 'value': [{'value_type': 'int', 'value': 1}, {'value_type': 'int', 'value': 2}, {'value_type': 'int', 'value': 3}]}}\n",
      "fuck0\n",
      "fuck1\n",
      "fuck2\n",
      "Sending response:  {'response_type': 'PUT_RESPONSE', 'result': 'SUCCESS'}\n",
      "data length:  92\n",
      "Received request:  {'request_type': 'HANDSHAKE_REQUEST', 'host': 'DESKTOP-B47DTMS', 'pid': 43220, 'local_port': 4782}\n",
      "fuck0\n",
      "Sending response:  {'response_type': 'HANDSHAKE_RESPONSE', 'connection_handle': 'b673a023-ef7a-11ed-9252-a0a4c5212e55'}\n",
      "data length:  259\n",
      "Received request:  {'request_type': 'SYNC_STORAGE_REQUEST', 'storage_snapshot': {'hello': {'value_type': 'dict', 'value': {'hello': {'value_type': 'string', 'value': 'world'}, 'test': {'value_type': 'int', 'value': 123}}}, 'day': {'value_type': 'string', 'value': 'Saturday'}}}\n",
      "fuck0\n",
      "Sending response:  {'response_type': 'SYNC_STORAGE_RESPONSE', 'storage_snapshot': {'hello': {'value_type': 'dict', 'value': {'hello': {'value_type': 'string', 'value': 'world'}, 'test': {'value_type': 'int', 'value': 123}}}, 'day': {'value_type': 'string', 'value': 'Saturday'}}}\n"
     ]
    },
    {
     "name": "stderr",
     "output_type": "stream",
     "text": [
      "2023-05-10 22:36:24,508 root         INFO     Waiting for a client to connect to the socket\n",
      "2023-05-10 22:36:24,513 root         DEBUG    Acquiring storage lock\n",
      "2023-05-10 22:36:24,520 root         DEBUG    Releasing storage lock\n"
     ]
    },
    {
     "name": "stdout",
     "output_type": "stream",
     "text": [
      "data length:  213\n",
      "Received request:  {'request_type': 'PUT_REQUEST', 'name': 'hello', 'value': {'value_type': 'list', 'value': [{'value_type': 'int', 'value': 1}, {'value_type': 'int', 'value': 2}, {'value_type': 'int', 'value': 3}]}}\n",
      "fuck0\n",
      "fuck1\n",
      "fuck2\n",
      "Sending response:  {'response_type': 'PUT_RESPONSE', 'result': 'SUCCESS'}\n"
     ]
    }
   ],
   "source": [
    "sydx.put('day', 'Saturday')"
   ]
  },
  {
   "cell_type": "code",
   "execution_count": null,
   "metadata": {},
   "outputs": [],
   "source": [
    "sydx.get('name')"
   ]
  },
  {
   "cell_type": "code",
   "execution_count": null,
   "metadata": {},
   "outputs": [],
   "source": [
    "sydx.get_all_storage()"
   ]
  },
  {
   "cell_type": "code",
   "execution_count": null,
   "metadata": {},
   "outputs": [],
   "source": [
    "# sydx.close()"
   ]
  }
 ],
 "metadata": {
  "kernelspec": {
   "display_name": "Python 3",
   "language": "python",
   "name": "python3"
  },
  "language_info": {
   "codemirror_mode": {
    "name": "ipython",
    "version": 3
   },
   "file_extension": ".py",
   "mimetype": "text/x-python",
   "name": "python",
   "nbconvert_exporter": "python",
   "pygments_lexer": "ipython3",
   "version": "3.11.0"
  }
 },
 "nbformat": 4,
 "nbformat_minor": 2
}
