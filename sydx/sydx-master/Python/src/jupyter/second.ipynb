{
 "cells": [
  {
   "cell_type": "code",
   "execution_count": 1,
   "metadata": {},
   "outputs": [],
   "source": [
    "import os, sys\n",
    "sys.path.append(os.path.abspath('../main'))"
   ]
  },
  {
   "cell_type": "code",
   "execution_count": 2,
   "metadata": {},
   "outputs": [
    {
     "name": "stderr",
     "output_type": "stream",
     "text": [
      "2023-04-26 23:17:22,095 root         INFO     Initialising Sydx version 1.0.0\n",
      "2023-04-26 23:17:22,547 root         INFO     Loaded 3 deserialisers and 3 serialisers\n",
      "2023-04-26 23:17:22,577 root         INFO     Initialising Sydx version 1.0.0\n",
      "2023-04-26 23:17:22,581 root         INFO     Loaded 3 deserialisers and 3 serialisers\n"
     ]
    },
    {
     "data": {
      "text/plain": [
       "<module 'sydx' from 'c:\\\\Users\\\\kavya\\\\Downloads\\\\individual-project\\\\sydx\\\\sydx-master\\\\Python\\\\src\\\\main\\\\sydx.py'>"
      ]
     },
     "execution_count": 2,
     "metadata": {},
     "output_type": "execute_result"
    }
   ],
   "source": [
    "import sydx\n",
    "\n",
    "import importlib\n",
    "importlib.reload(sydx)"
   ]
  },
  {
   "cell_type": "code",
   "execution_count": 3,
   "metadata": {},
   "outputs": [
    {
     "name": "stderr",
     "output_type": "stream",
     "text": [
      "2023-04-26 23:17:56,708 root         INFO     Waiting for a client to connect to the socket\n"
     ]
    }
   ],
   "source": [
    "sydx.port(4783)"
   ]
  },
  {
   "cell_type": "code",
   "execution_count": 4,
   "metadata": {},
   "outputs": [
    {
     "name": "stderr",
     "output_type": "stream",
     "text": [
      "2023-04-26 23:18:23,151 root         DEBUG    Connecting on socket <socket.socket fd=1696, family=2, type=1, proto=0>\n",
      "2023-04-26 23:18:23,164 root         DEBUG    Sending request: {'request_type': 'HANDSHAKE_REQUEST', 'host': 'DESKTOP-B47DTMS', 'pid': 33172, 'local_port': 4783}\n",
      "2023-04-26 23:18:23,167 root         DEBUG    Receiving response\n",
      "2023-04-26 23:18:23,178 root         DEBUG    data length: 103\n",
      "2023-04-26 23:18:23,181 root         DEBUG    Received response: {'response_type': 'HANDSHAKE_RESPONSE', 'connection_handle': '1ca67269-e467-11ed-8d8b-a0a4c5212e55'}\n",
      "2023-04-26 23:18:23,183 root         DEBUG    Acquiring storage lock\n",
      "2023-04-26 23:18:23,185 root         DEBUG    Releasing storage lock\n",
      "2023-04-26 23:18:23,188 root         DEBUG    Connecting on socket <socket.socket fd=1684, family=2, type=1, proto=0>\n",
      "2023-04-26 23:18:23,193 root         DEBUG    Sending request: {'request_type': 'SYNC_STORAGE_REQUEST', 'storage_snapshot': {}}\n",
      "2023-04-26 23:18:23,196 root         DEBUG    Receiving response\n",
      "2023-04-26 23:18:23,234 root         DEBUG    data length: 69\n",
      "2023-04-26 23:18:23,236 root         DEBUG    Received response: {'response_type': 'SYNC_STORAGE_RESPONSE', 'storage_snapshot': {}}\n",
      "2023-04-26 23:18:23,238 root         DEBUG    Acquiring storage lock\n",
      "2023-04-26 23:18:23,240 root         DEBUG    Releasing storage lock\n"
     ]
    },
    {
     "data": {
      "text/plain": [
       "'1ca67269-e467-11ed-8d8b-a0a4c5212e55'"
      ]
     },
     "execution_count": 4,
     "metadata": {},
     "output_type": "execute_result"
    }
   ],
   "source": [
    "sydx.connect('localhost', 4782)"
   ]
  },
  {
   "cell_type": "code",
   "execution_count": 5,
   "metadata": {},
   "outputs": [
    {
     "data": {
      "text/plain": [
       "4783"
      ]
     },
     "execution_count": 5,
     "metadata": {},
     "output_type": "execute_result"
    },
    {
     "name": "stderr",
     "output_type": "stream",
     "text": [
      "2023-04-26 23:18:53,224 root         INFO     Client connected. Kicking off a new thread to service this client\n",
      "2023-04-26 23:18:53,227 root         INFO     Waiting for a client to connect to the socket\n",
      "2023-04-26 23:18:53,249 root         INFO     Client connected. Kicking off a new thread to service this client\n",
      "2023-04-26 23:18:53,254 root         INFO     Waiting for a client to connect to the socket\n",
      "2023-04-26 23:18:53,255 root         DEBUG    Acquiring storage lock\n",
      "2023-04-26 23:18:53,262 root         DEBUG    Releasing storage lock\n",
      "2023-04-26 23:18:53,264 root         DEBUG    Acquiring storage lock\n",
      "2023-04-26 23:18:53,267 root         DEBUG    Releasing storage lock\n",
      "2023-04-26 23:18:53,284 root         INFO     Client connected. Kicking off a new thread to service this client\n",
      "2023-04-26 23:18:53,292 root         INFO     Waiting for a client to connect to the socket\n",
      "2023-04-26 23:18:53,292 root         DEBUG    Acquiring storage lock\n",
      "2023-04-26 23:18:53,319 root         DEBUG    Releasing storage lock\n"
     ]
    },
    {
     "name": "stdout",
     "output_type": "stream",
     "text": [
      "data length:  92\n",
      "Received request:  {'request_type': 'HANDSHAKE_REQUEST', 'host': 'DESKTOP-B47DTMS', 'pid': 14380, 'local_port': 4782}\n",
      "Sending response:  {'response_type': 'HANDSHAKE_RESPONSE', 'connection_handle': '2e90c4ee-e467-11ed-88ec-a0a4c5212e55'}\n",
      "data length:  67\n",
      "Received request:  {'request_type': 'SYNC_STORAGE_REQUEST', 'storage_snapshot': {}}\n",
      "Sending response:  {'response_type': 'SYNC_STORAGE_RESPONSE', 'storage_snapshot': {}}\n",
      "data length:  118\n",
      "Received request:  {'request_type': 'PUT_REQUEST', 'name': 'hello', 'value': {'type': 'dict', 'values': {'hello': 'world', 'test': 123}}}\n",
      "Sending response:  {'response_type': 'PUT_RESPONSE', 'result': 'SUCCESS'}\n"
     ]
    }
   ],
   "source": [
    "sydx.server_port()"
   ]
  },
  {
   "cell_type": "code",
   "execution_count": 7,
   "metadata": {},
   "outputs": [
    {
     "name": "stderr",
     "output_type": "stream",
     "text": [
      "2023-04-26 23:20:39,765 root         DEBUG    Acquiring storage lock\n",
      "2023-04-26 23:20:39,770 root         DEBUG    Releasing storage lock\n",
      "2023-04-26 23:20:39,771 root         DEBUG    Attempting to deserialise the object named 'hello'\n",
      "2023-04-26 23:20:39,773 root         DEBUG    Trying converter <function numpy_array_from_json_object at 0x00000296263A4180>\n",
      "2023-04-26 23:20:39,774 root         DEBUG    The converter has failed\n",
      "2023-04-26 23:20:39,777 root         DEBUG    Unable to deserialise an object\n",
      "2023-04-26 23:20:39,778 root         DEBUG    Trying converter <function numpy_numeral_from_json_object at 0x0000029617D06E80>\n",
      "2023-04-26 23:20:39,780 root         DEBUG    The converter has failed\n",
      "2023-04-26 23:20:39,782 root         DEBUG    Unable to deserialise an object\n",
      "2023-04-26 23:20:39,784 root         DEBUG    Trying converter <function plain_old_data_from_json_object at 0x00000296263A42C0>\n",
      "2023-04-26 23:20:39,786 root         DEBUG    Attempting to deserialise a plain old data object\n",
      "2023-04-26 23:20:39,787 root         DEBUG    Deserialisation result: world\n"
     ]
    },
    {
     "data": {
      "text/plain": [
       "'world'"
      ]
     },
     "execution_count": 7,
     "metadata": {},
     "output_type": "execute_result"
    },
    {
     "name": "stderr",
     "output_type": "stream",
     "text": [
      "2023-04-26 23:20:52,109 root         INFO     Client connected. Kicking off a new thread to service this client\n",
      "2023-04-26 23:20:52,113 root         INFO     Waiting for a client to connect to the socket\n",
      "2023-04-26 23:20:52,119 root         DEBUG    Acquiring storage lock\n",
      "2023-04-26 23:20:52,123 root         DEBUG    Releasing storage lock\n"
     ]
    },
    {
     "name": "stdout",
     "output_type": "stream",
     "text": [
      "data length:  60\n",
      "Received request:  {'request_type': 'PUT_REQUEST', 'name': 'age', 'value': 100}\n",
      "Sending response:  {'response_type': 'PUT_RESPONSE', 'result': 'SUCCESS'}\n"
     ]
    }
   ],
   "source": [
    "sydx.get('hello')"
   ]
  },
  {
   "cell_type": "code",
   "execution_count": 8,
   "metadata": {},
   "outputs": [
    {
     "name": "stderr",
     "output_type": "stream",
     "text": [
      "2023-04-26 23:21:01,276 root         DEBUG    Acquiring storage lock\n",
      "2023-04-26 23:21:01,279 root         DEBUG    Releasing storage lock\n",
      "2023-04-26 23:21:01,281 root         DEBUG    Attempting to deserialise the object named 'age'\n",
      "2023-04-26 23:21:01,285 root         DEBUG    Trying converter <function numpy_array_from_json_object at 0x00000296263A4180>\n",
      "2023-04-26 23:21:01,287 root         DEBUG    The converter has failed\n",
      "2023-04-26 23:21:01,288 root         DEBUG    Unable to deserialise an object\n",
      "2023-04-26 23:21:01,289 root         DEBUG    Trying converter <function numpy_numeral_from_json_object at 0x0000029617D06E80>\n",
      "2023-04-26 23:21:01,292 root         DEBUG    The converter has failed\n",
      "2023-04-26 23:21:01,294 root         DEBUG    Unable to deserialise an object\n",
      "2023-04-26 23:21:01,296 root         DEBUG    Trying converter <function plain_old_data_from_json_object at 0x00000296263A42C0>\n",
      "2023-04-26 23:21:01,299 root         DEBUG    Attempting to deserialise a plain old data object\n",
      "2023-04-26 23:21:01,301 root         DEBUG    Deserialisation result: 100\n"
     ]
    },
    {
     "data": {
      "text/plain": [
       "100"
      ]
     },
     "execution_count": 8,
     "metadata": {},
     "output_type": "execute_result"
    },
    {
     "name": "stderr",
     "output_type": "stream",
     "text": [
      "2023-04-26 23:21:18,877 root         INFO     Client connected. Kicking off a new thread to service this client\n",
      "2023-04-26 23:21:18,880 root         INFO     Waiting for a client to connect to the socket\n",
      "2023-04-26 23:21:18,885 root         DEBUG    Acquiring storage lock\n",
      "2023-04-26 23:21:18,890 root         DEBUG    Releasing storage lock\n"
     ]
    },
    {
     "name": "stdout",
     "output_type": "stream",
     "text": [
      "data length:  66\n",
      "Received request:  {'request_type': 'PUT_REQUEST', 'name': 'name', 'value': 'Paul'}\n",
      "Sending response:  {'response_type': 'PUT_RESPONSE', 'result': 'SUCCESS'}\n"
     ]
    }
   ],
   "source": [
    "sydx.get('age')"
   ]
  },
  {
   "cell_type": "code",
   "execution_count": 9,
   "metadata": {},
   "outputs": [
    {
     "name": "stderr",
     "output_type": "stream",
     "text": [
      "2023-04-26 23:21:29,029 root         DEBUG    Acquiring storage lock\n",
      "2023-04-26 23:21:29,030 root         DEBUG    Releasing storage lock\n",
      "2023-04-26 23:21:29,032 root         DEBUG    Attempting to deserialise the object named 'name'\n",
      "2023-04-26 23:21:29,034 root         DEBUG    Trying converter <function numpy_array_from_json_object at 0x00000296263A4180>\n",
      "2023-04-26 23:21:29,036 root         DEBUG    The converter has failed\n",
      "2023-04-26 23:21:29,038 root         DEBUG    Unable to deserialise an object\n",
      "2023-04-26 23:21:29,040 root         DEBUG    Trying converter <function numpy_numeral_from_json_object at 0x0000029617D06E80>\n",
      "2023-04-26 23:21:29,042 root         DEBUG    The converter has failed\n",
      "2023-04-26 23:21:29,043 root         DEBUG    Unable to deserialise an object\n",
      "2023-04-26 23:21:29,045 root         DEBUG    Trying converter <function plain_old_data_from_json_object at 0x00000296263A42C0>\n",
      "2023-04-26 23:21:29,046 root         DEBUG    Attempting to deserialise a plain old data object\n",
      "2023-04-26 23:21:29,047 root         DEBUG    Deserialisation result: Paul\n"
     ]
    },
    {
     "data": {
      "text/plain": [
       "'Paul'"
      ]
     },
     "execution_count": 9,
     "metadata": {},
     "output_type": "execute_result"
    }
   ],
   "source": [
    "sydx.get('name')"
   ]
  },
  {
   "cell_type": "code",
   "execution_count": 10,
   "metadata": {},
   "outputs": [
    {
     "name": "stderr",
     "output_type": "stream",
     "text": [
      "2023-04-26 23:21:54,345 root         DEBUG    Acquiring storage lock\n",
      "2023-04-26 23:21:54,347 root         DEBUG    Releasing storage lock\n",
      "2023-04-26 23:21:54,351 root         DEBUG    Attempting to deserialise the object named 'name'\n",
      "2023-04-26 23:21:54,353 root         DEBUG    Trying converter <function numpy_array_from_json_object at 0x00000296263A4180>\n",
      "2023-04-26 23:21:54,354 root         DEBUG    The converter has failed\n",
      "2023-04-26 23:21:54,356 root         DEBUG    Unable to deserialise an object\n",
      "2023-04-26 23:21:54,357 root         DEBUG    Trying converter <function numpy_numeral_from_json_object at 0x0000029617D06E80>\n",
      "2023-04-26 23:21:54,359 root         DEBUG    The converter has failed\n",
      "2023-04-26 23:21:54,364 root         DEBUG    Unable to deserialise an object\n",
      "2023-04-26 23:21:54,366 root         DEBUG    Trying converter <function plain_old_data_from_json_object at 0x00000296263A42C0>\n",
      "2023-04-26 23:21:54,368 root         DEBUG    Attempting to deserialise a plain old data object\n",
      "2023-04-26 23:21:54,369 root         DEBUG    Deserialisation result: Paul\n"
     ]
    },
    {
     "data": {
      "text/plain": [
       "'Paul'"
      ]
     },
     "execution_count": 10,
     "metadata": {},
     "output_type": "execute_result"
    }
   ],
   "source": [
    "sydx.get('name')"
   ]
  }
 ],
 "metadata": {
  "kernelspec": {
   "display_name": "Python 3",
   "language": "python",
   "name": "python3"
  },
  "language_info": {
   "codemirror_mode": {
    "name": "ipython",
    "version": 3
   },
   "file_extension": ".py",
   "mimetype": "text/x-python",
   "name": "python",
   "nbconvert_exporter": "python",
   "pygments_lexer": "ipython3",
   "version": "3.11.0"
  }
 },
 "nbformat": 4,
 "nbformat_minor": 2
}
