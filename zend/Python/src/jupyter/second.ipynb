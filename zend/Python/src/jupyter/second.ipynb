{
 "cells": [
  {
   "cell_type": "code",
   "execution_count": 1,
   "metadata": {},
   "outputs": [
    {
     "name": "stderr",
     "output_type": "stream",
     "text": [
      "2023-05-15 14:53:02,966 root         INFO     Initialising Sydx version 1.0.0\n",
      "2023-05-15 14:53:03,372 root         INFO     Loaded 3 deserialisers and 3 serialisers\n",
      "2023-05-15 14:53:03,389 root         INFO     Initialising Sydx version 1.0.0\n",
      "2023-05-15 14:53:03,392 root         INFO     Loaded 3 deserialisers and 3 serialisers\n",
      "2023-05-15 14:53:03,421 root         DEBUG    Connecting on socket <socket.socket fd=1416, family=2, type=1, proto=0>\n",
      "2023-05-15 14:53:03,423 root         INFO     Waiting for a client to connect to the socket\n",
      "2023-05-15 14:53:03,452 root         DEBUG    Sending request: {'request_type': 'HANDSHAKE_REQUEST', 'host': 'DESKTOP-B47DTMS', 'pid': 35144, 'local_port': 4783}\n",
      "2023-05-15 14:53:03,457 root         DEBUG    Receiving response\n",
      "2023-05-15 14:53:03,478 root         DEBUG    data length: 103\n",
      "2023-05-15 14:53:03,482 root         DEBUG    Received response: {'response_type': 'HANDSHAKE_RESPONSE', 'connection_handle': 'cfd9b52c-f327-11ed-9407-a0a4c5212e55'}\n",
      "2023-05-15 14:53:03,485 root         DEBUG    Acquiring storage lock\n",
      "2023-05-15 14:53:03,485 root         DEBUG    Releasing storage lock\n",
      "2023-05-15 14:53:03,488 root         DEBUG    Connecting on socket <socket.socket fd=1416, family=2, type=1, proto=0>\n",
      "2023-05-15 14:53:03,493 root         DEBUG    Sending request: {'request_type': 'SYNC_STORAGE_REQUEST', 'storage_snapshot': {}}\n",
      "2023-05-15 14:53:03,495 root         DEBUG    Receiving response\n",
      "2023-05-15 14:53:03,541 root         DEBUG    data length: 231\n",
      "2023-05-15 14:53:03,545 root         DEBUG    Received response: {'response_type': 'SYNC_STORAGE_RESPONSE', 'storage_snapshot': {'hello': {'value_type': 'list', 'value': [{'value_type': 'int', 'value': 1}, {'value_type': 'int', 'value': 2}, {'value_type': 'int', 'value': 3}]}}}\n",
      "2023-05-15 14:53:03,548 root         DEBUG    Acquiring storage lock\n",
      "2023-05-15 14:53:03,551 root         DEBUG    Releasing storage lock\n"
     ]
    },
    {
     "data": {
      "text/plain": [
       "'cfd9b52c-f327-11ed-9407-a0a4c5212e55'"
      ]
     },
     "execution_count": 1,
     "metadata": {},
     "output_type": "execute_result"
    }
   ],
   "source": [
    "import os, sys\n",
    "sys.path.append(os.path.abspath('../main'))\n",
    "\n",
    "import sydx\n",
    "\n",
    "import importlib\n",
    "importlib.reload(sydx)\n",
    "\n",
    "sydx.port(4783)\n",
    "\n",
    "sydx.connect('localhost', 4782)"
   ]
  },
  {
   "cell_type": "code",
   "execution_count": null,
   "metadata": {},
   "outputs": [],
   "source": [
    "# import sydx\n",
    "\n",
    "# import importlib\n",
    "# importlib.reload(sydx)"
   ]
  },
  {
   "cell_type": "code",
   "execution_count": null,
   "metadata": {},
   "outputs": [],
   "source": [
    "# sydx.port(4783)"
   ]
  },
  {
   "cell_type": "code",
   "execution_count": null,
   "metadata": {},
   "outputs": [],
   "source": [
    "# sydx.connect('localhost', 4782)"
   ]
  },
  {
   "cell_type": "code",
   "execution_count": null,
   "metadata": {},
   "outputs": [],
   "source": [
    "sydx.server_port()"
   ]
  },
  {
   "cell_type": "code",
   "execution_count": 2,
   "metadata": {},
   "outputs": [
    {
     "name": "stderr",
     "output_type": "stream",
     "text": [
      "2023-05-15 14:53:11,473 root         DEBUG    Acquiring storage lock\n",
      "2023-05-15 14:53:11,477 root         DEBUG    Releasing storage lock\n",
      "2023-05-15 14:53:11,481 root         DEBUG    Attempting to deserialise the object named 'hello'\n",
      "2023-05-15 14:53:11,483 root         DEBUG    Trying converter <function numpy_array_from_json_object at 0x0000022FFFD00360>\n",
      "2023-05-15 14:53:11,487 root         DEBUG    The converter has failed\n",
      "2023-05-15 14:53:11,489 root         DEBUG    Unable to deserialise an object\n",
      "2023-05-15 14:53:11,491 root         DEBUG    Trying converter <function numpy_numeral_from_json_object at 0x0000022FF16B6840>\n",
      "2023-05-15 14:53:11,492 root         DEBUG    The converter has failed\n",
      "2023-05-15 14:53:11,494 root         DEBUG    Unable to deserialise an object\n",
      "2023-05-15 14:53:11,496 root         DEBUG    Trying converter <function plain_old_data_from_json_object at 0x0000022FFFD004A0>\n",
      "2023-05-15 14:53:11,497 root         DEBUG    Attempting to deserialise a plain old data object\n",
      "2023-05-15 14:53:11,499 root         DEBUG    Trying converter <function numpy_array_from_json_object at 0x0000022FFFD00360>\n",
      "2023-05-15 14:53:11,501 root         DEBUG    The converter has failed\n",
      "2023-05-15 14:53:11,502 root         DEBUG    Unable to deserialise an object\n",
      "2023-05-15 14:53:11,504 root         DEBUG    Trying converter <function numpy_numeral_from_json_object at 0x0000022FF16B6840>\n",
      "2023-05-15 14:53:11,506 root         DEBUG    The converter has failed\n",
      "2023-05-15 14:53:11,507 root         DEBUG    Unable to deserialise an object\n",
      "2023-05-15 14:53:11,509 root         DEBUG    Trying converter <function plain_old_data_from_json_object at 0x0000022FFFD004A0>\n",
      "2023-05-15 14:53:11,511 root         DEBUG    Attempting to deserialise a plain old data object\n",
      "2023-05-15 14:53:11,514 root         DEBUG    Trying converter <function numpy_array_from_json_object at 0x0000022FFFD00360>\n",
      "2023-05-15 14:53:11,516 root         DEBUG    The converter has failed\n",
      "2023-05-15 14:53:11,519 root         DEBUG    Unable to deserialise an object\n",
      "2023-05-15 14:53:11,520 root         DEBUG    Trying converter <function numpy_numeral_from_json_object at 0x0000022FF16B6840>\n",
      "2023-05-15 14:53:11,523 root         DEBUG    The converter has failed\n",
      "2023-05-15 14:53:11,525 root         DEBUG    Unable to deserialise an object\n",
      "2023-05-15 14:53:11,528 root         DEBUG    Trying converter <function plain_old_data_from_json_object at 0x0000022FFFD004A0>\n",
      "2023-05-15 14:53:11,530 root         DEBUG    Attempting to deserialise a plain old data object\n",
      "2023-05-15 14:53:11,531 root         DEBUG    Trying converter <function numpy_array_from_json_object at 0x0000022FFFD00360>\n",
      "2023-05-15 14:53:11,537 root         DEBUG    The converter has failed\n",
      "2023-05-15 14:53:11,539 root         DEBUG    Unable to deserialise an object\n",
      "2023-05-15 14:53:11,541 root         DEBUG    Trying converter <function numpy_numeral_from_json_object at 0x0000022FF16B6840>\n",
      "2023-05-15 14:53:11,543 root         DEBUG    The converter has failed\n",
      "2023-05-15 14:53:11,545 root         DEBUG    Unable to deserialise an object\n",
      "2023-05-15 14:53:11,549 root         DEBUG    Trying converter <function plain_old_data_from_json_object at 0x0000022FFFD004A0>\n",
      "2023-05-15 14:53:11,551 root         DEBUG    Attempting to deserialise a plain old data object\n",
      "2023-05-15 14:53:11,553 root         DEBUG    Deserialisation result: [1, 2, 3]\n"
     ]
    },
    {
     "data": {
      "text/plain": [
       "[1, 2, 3]"
      ]
     },
     "execution_count": 2,
     "metadata": {},
     "output_type": "execute_result"
    },
    {
     "name": "stderr",
     "output_type": "stream",
     "text": [
      "2023-05-15 14:53:21,939 root         INFO     Client connected. Kicking off a new thread to service this client\n",
      "2023-05-15 14:53:21,944 root         INFO     Waiting for a client to connect to the socket\n",
      "2023-05-15 14:53:21,968 root         INFO     Client connected. Kicking off a new thread to service this client\n",
      "2023-05-15 14:53:21,972 root         INFO     Waiting for a client to connect to the socket\n",
      "2023-05-15 14:53:21,974 root         DEBUG    Acquiring storage lock\n",
      "2023-05-15 14:53:21,981 root         DEBUG    Releasing storage lock\n",
      "2023-05-15 14:53:21,983 root         DEBUG    Acquiring storage lock\n",
      "2023-05-15 14:53:21,986 root         DEBUG    Releasing storage lock\n",
      "2023-05-15 14:53:22,007 root         INFO     Client connected. Kicking off a new thread to service this client\n",
      "2023-05-15 14:53:22,020 root         INFO     Waiting for a client to connect to the socket\n",
      "2023-05-15 14:53:22,021 root         DEBUG    Acquiring storage lock\n",
      "2023-05-15 14:53:22,031 root         DEBUG    Releasing storage lock\n"
     ]
    },
    {
     "name": "stdout",
     "output_type": "stream",
     "text": [
      "data length:  92\n",
      "Received request:  {'request_type': 'HANDSHAKE_REQUEST', 'host': 'DESKTOP-B47DTMS', 'pid': 32508, 'local_port': 4782}\n",
      "Sending response:  {'response_type': 'HANDSHAKE_RESPONSE', 'connection_handle': 'dadccf2f-f327-11ed-8ec1-a0a4c5212e55'}\n",
      "data length:  229\n",
      "Received request:  {'request_type': 'SYNC_STORAGE_REQUEST', 'storage_snapshot': {'hello': {'value_type': 'list', 'value': [{'value_type': 'int', 'value': 1}, {'value_type': 'int', 'value': 2}, {'value_type': 'int', 'value': 3}]}}}\n",
      "Sending response:  {'response_type': 'SYNC_STORAGE_RESPONSE', 'storage_snapshot': {'hello': {'value_type': 'list', 'value': [{'value_type': 'int', 'value': 1}, {'value_type': 'int', 'value': 2}, {'value_type': 'int', 'value': 3}]}}}\n",
      "data length:  92\n",
      "Received request:  {'request_type': 'PUT_REQUEST', 'name': 'age', 'value': {'value_type': 'int', 'value': 100}}\n",
      "Sending response:  {'response_type': 'PUT_RESPONSE', 'result': 'SUCCESS'}\n"
     ]
    }
   ],
   "source": [
    "sydx.get('hello')"
   ]
  },
  {
   "cell_type": "code",
   "execution_count": null,
   "metadata": {},
   "outputs": [],
   "source": [
    "sydx.get('age')"
   ]
  },
  {
   "cell_type": "code",
   "execution_count": null,
   "metadata": {},
   "outputs": [],
   "source": [
    "sydx.get('name')"
   ]
  },
  {
   "cell_type": "code",
   "execution_count": null,
   "metadata": {},
   "outputs": [],
   "source": [
    "sydx.put('day', 'Saturday')"
   ]
  },
  {
   "cell_type": "code",
   "execution_count": null,
   "metadata": {},
   "outputs": [],
   "source": [
    "sydx.get('name')"
   ]
  },
  {
   "cell_type": "code",
   "execution_count": null,
   "metadata": {},
   "outputs": [],
   "source": [
    "sydx.get_all_storage()"
   ]
  },
  {
   "cell_type": "code",
   "execution_count": null,
   "metadata": {},
   "outputs": [],
   "source": [
    "# sydx.close()"
   ]
  }
 ],
 "metadata": {
  "kernelspec": {
   "display_name": "Python 3",
   "language": "python",
   "name": "python3"
  },
  "language_info": {
   "codemirror_mode": {
    "name": "ipython",
    "version": 3
   },
   "file_extension": ".py",
   "mimetype": "text/x-python",
   "name": "python",
   "nbconvert_exporter": "python",
   "pygments_lexer": "ipython3",
   "version": "3.11.0"
  }
 },
 "nbformat": 4,
 "nbformat_minor": 2
}
